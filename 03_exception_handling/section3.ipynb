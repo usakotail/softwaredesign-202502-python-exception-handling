{
 "cells": [
  {
   "cell_type": "markdown",
   "metadata": {},
   "source": [
    "###### 図 4: エラーメッセージの例\n"
   ]
  },
  {
   "cell_type": "code",
   "execution_count": 1,
   "metadata": {},
   "outputs": [
    {
     "ename": "FileNotFoundError",
     "evalue": "[Errno 2] No such file or directory: 'config.txt'",
     "output_type": "error",
     "traceback": [
      "\u001b[0;31m---------------------------------------------------------------------------\u001b[0m",
      "\u001b[0;31mFileNotFoundError\u001b[0m                         Traceback (most recent call last)",
      "Cell \u001b[0;32mIn[1], line 3\u001b[0m\n\u001b[1;32m      1\u001b[0m \u001b[38;5;28;01mfrom\u001b[39;00m \u001b[38;5;21;01mconfig\u001b[39;00m \u001b[38;5;28;01mimport\u001b[39;00m open_not_exist_file\n\u001b[0;32m----> 3\u001b[0m \u001b[43mopen_not_exist_file\u001b[49m\u001b[43m(\u001b[49m\u001b[43m)\u001b[49m\n",
      "File \u001b[0;32m/workspaces/softwaredesign-202502-python-exception-handling/03_exception_handling/config.py:3\u001b[0m, in \u001b[0;36mopen_not_exist_file\u001b[0;34m()\u001b[0m\n\u001b[1;32m      1\u001b[0m \u001b[38;5;28;01mdef\u001b[39;00m \u001b[38;5;21mopen_not_exist_file\u001b[39m() \u001b[38;5;241m-\u001b[39m\u001b[38;5;241m>\u001b[39m \u001b[38;5;28;01mNone\u001b[39;00m:\n\u001b[1;32m      2\u001b[0m     \u001b[38;5;66;03m# 存在しないファイルを開こうとする\u001b[39;00m\n\u001b[0;32m----> 3\u001b[0m     \u001b[38;5;28;01mwith\u001b[39;00m \u001b[38;5;28;43mopen\u001b[39;49m\u001b[43m(\u001b[49m\u001b[38;5;124;43m\"\u001b[39;49m\u001b[38;5;124;43mconfig.txt\u001b[39;49m\u001b[38;5;124;43m\"\u001b[39;49m\u001b[43m,\u001b[49m\u001b[43m \u001b[49m\u001b[38;5;124;43m\"\u001b[39;49m\u001b[38;5;124;43mr\u001b[39;49m\u001b[38;5;124;43m\"\u001b[39;49m\u001b[43m)\u001b[49m \u001b[38;5;28;01mas\u001b[39;00m f:\n\u001b[1;32m      4\u001b[0m         config \u001b[38;5;241m=\u001b[39m f\u001b[38;5;241m.\u001b[39mread()\n\u001b[1;32m      5\u001b[0m         \u001b[38;5;28mprint\u001b[39m(\u001b[38;5;124mf\u001b[39m\u001b[38;5;124m\"\u001b[39m\u001b[38;5;124mconfigファイルを読み込みました。\u001b[39m\u001b[38;5;132;01m{\u001b[39;00mconfig\u001b[38;5;132;01m=}\u001b[39;00m\u001b[38;5;124m\"\u001b[39m)\n",
      "\u001b[0;31mFileNotFoundError\u001b[0m: [Errno 2] No such file or directory: 'config.txt'"
     ]
    }
   ],
   "source": [
    "from config import open_not_exist_file\n",
    "\n",
    "open_not_exist_file()"
   ]
  },
  {
   "cell_type": "markdown",
   "metadata": {},
   "source": [
    "###### 図 5: try 文（try 節・except 節）の記述例\n"
   ]
  },
  {
   "cell_type": "code",
   "execution_count": 2,
   "metadata": {},
   "outputs": [
    {
     "name": "stdout",
     "output_type": "stream",
     "text": [
      "configファイルが存在しません。デフォルト値を使用します。config='default'\n"
     ]
    }
   ],
   "source": [
    "try:\n",
    "    # 存在しないファイルを開く\n",
    "    with open(\"config.txt\", \"r\") as file:\n",
    "        config = file.read()\n",
    "        print(f\"configファイルを読み込みました。{config=}\")\n",
    "except FileNotFoundError:\n",
    "    # エラー処理\n",
    "    config = \"default\"\n",
    "    print(f\"configファイルが存在しません。デフォルト値を使用します。{config=}\")"
   ]
  },
  {
   "cell_type": "markdown",
   "metadata": {},
   "source": [
    "###### 図 6: 複数の except 節の記述例\n"
   ]
  },
  {
   "cell_type": "code",
   "execution_count": 3,
   "metadata": {},
   "outputs": [
    {
     "name": "stdout",
     "output_type": "stream",
     "text": [
      "キーが存在しません。キーの一覧: []\n"
     ]
    }
   ],
   "source": [
    "data = {}\n",
    "try:\n",
    "    data[\"x\"] += 1\n",
    "except KeyError:\n",
    "    print(\"キーが存在しません。キーの一覧:\", list(data.keys()))\n",
    "except TypeError:\n",
    "    print(\"値の型が数値ではありません。型:\", type(data[\"x\"]))\n",
    "except Exception:\n",
    "    # Exceptionを指定するとKeyErrorも捕捉可能だが、\n",
    "    # KeyErrorが先に捕捉しているのでここには到達しない\n",
    "    print(\"予期せぬエラーが発生しました。\")"
   ]
  },
  {
   "cell_type": "markdown",
   "metadata": {},
   "source": [
    "###### 図 7: タプルを使用した except 節の記述例\n"
   ]
  },
  {
   "cell_type": "code",
   "execution_count": 4,
   "metadata": {},
   "outputs": [
    {
     "name": "stdout",
     "output_type": "stream",
     "text": [
      "dataに誤りがあります。data={}\n"
     ]
    }
   ],
   "source": [
    "data = {}\n",
    "try:\n",
    "    data[\"x\"] += 1\n",
    "# \"x\" というキーがない場合、もしくは d[\"x\"] が文字列だった場合など\n",
    "except (KeyError, TypeError):\n",
    "    print(f\"dataに誤りがあります。{data=}\")"
   ]
  },
  {
   "cell_type": "markdown",
   "metadata": {},
   "source": [
    "###### 図 8: ロガーにログを記録する例\n"
   ]
  },
  {
   "cell_type": "code",
   "execution_count": 5,
   "metadata": {},
   "outputs": [
    {
     "name": "stderr",
     "output_type": "stream",
     "text": [
      "DEBUG:root:DEBUGメッセージ\n",
      "INFO:root:INFOメッセージ\n",
      "WARNING:root:{'WARNINGメッセージ': 1000}\n",
      "ERROR:root:{'ERRORメッセージ': ValueError('error object')}\n",
      "CRITICAL:root:CRITICALメッセージ error_code=1000\n"
     ]
    }
   ],
   "source": [
    "import logging\n",
    "\n",
    "# logging.DEBUG以上のログを出力する設定\n",
    "logging.basicConfig(level=logging.DEBUG)\n",
    "\n",
    "logging.debug(\"DEBUGメッセージ\")\n",
    "logging.info(\"INFOメッセージ\")\n",
    "# 文字列以外(辞書など)も記録できる\n",
    "# 文字列以外の場合は、str()で文字列に変換して出力される\n",
    "error_code = 1000\n",
    "logging.warning({\"WARNINGメッセージ\": error_code})\n",
    "error_object = ValueError(\"error object\")\n",
    "logging.error({\"ERRORメッセージ\": error_object})\n",
    "# フォーマット文字列も使用可能\n",
    "logging.critical(f\"CRITICALメッセージ {error_code=}\")"
   ]
  },
  {
   "cell_type": "markdown",
   "metadata": {},
   "source": [
    "###### 図 9: ロガーの設定例\n"
   ]
  },
  {
   "cell_type": "code",
   "execution_count": 6,
   "metadata": {},
   "outputs": [],
   "source": [
    "logging.basicConfig(\n",
    "    filename=\"example.log\",  # example.logファイルに記録\n",
    "    encoding=\"utf-8\",  # utf-8で記録\n",
    "    level=logging.DEBUG,  # 重要度がlogging.DEBUG以上のイベントを記録\n",
    ")"
   ]
  },
  {
   "cell_type": "markdown",
   "metadata": {},
   "source": [
    "###### 図 10: 捕捉した例外をロガーに記録する例\n"
   ]
  },
  {
   "cell_type": "code",
   "execution_count": 7,
   "metadata": {},
   "outputs": [
    {
     "name": "stderr",
     "output_type": "stream",
     "text": [
      "ERROR:root:xをインクリメントできませんでした。data={}\n",
      "Traceback (most recent call last):\n",
      "  File \"/tmp/ipykernel_21603/1648662037.py\", line 3, in <module>\n",
      "    data[\"x\"] += 1\n",
      "    ~~~~^^^^^\n",
      "KeyError: 'x'\n"
     ]
    }
   ],
   "source": [
    "data = {}\n",
    "try:\n",
    "    data[\"x\"] += 1\n",
    "except KeyError:\n",
    "    logging.error(f\"xをインクリメントできませんでした。{data=}\", exc_info=True)"
   ]
  },
  {
   "cell_type": "markdown",
   "metadata": {},
   "source": [
    "###### 図 11: 例外を捕捉し何もしない例\n"
   ]
  },
  {
   "cell_type": "code",
   "execution_count": 8,
   "metadata": {},
   "outputs": [],
   "source": [
    "import time\n",
    "\n",
    "# 成功・失敗の制御フラグ\n",
    "attempt = 0\n",
    "\n",
    "\n",
    "def connect_to_server() -> None:\n",
    "    \"\"\"サーバーに接続を試みる(シミュレーション)\"\"\"\n",
    "    global attempt\n",
    "    attempt += 1\n",
    "    if attempt == 1:  # 1回目は失敗\n",
    "        raise ConnectionError(\"接続に失敗しました。\")\n",
    "    print(\"サーバーへの接続に成功しました。\")"
   ]
  },
  {
   "cell_type": "code",
   "execution_count": null,
   "metadata": {},
   "outputs": [
    {
     "name": "stdout",
     "output_type": "stream",
     "text": [
      "接続に失敗しました。 リトライします...\n",
      "サーバーへの接続に成功しました。\n"
     ]
    }
   ],
   "source": [
    "try:\n",
    "    # 例外が発生する可能性がある処理(サーバに接続)\n",
    "    connect_to_server()\n",
    "except ConnectionError as e:\n",
    "    print(f\"{e} リトライします...\")\n",
    "    time.sleep(1)\n",
    "    connect_to_server()"
   ]
  },
  {
   "cell_type": "markdown",
   "metadata": {},
   "source": [
    "###### リスト 2: contextlib.suppress の記述例\n"
   ]
  },
  {
   "cell_type": "code",
   "execution_count": 10,
   "metadata": {},
   "outputs": [],
   "source": [
    "from contextlib import suppress\n",
    "\n",
    "d = {}\n",
    "with suppress(KeyError):\n",
    "    d[\"x\"] += 1"
   ]
  },
  {
   "cell_type": "markdown",
   "metadata": {},
   "source": [
    "###### 図 12: 例外を捕捉しノートを追加して再送出する、例外の引数とノートを確認する例\n"
   ]
  },
  {
   "cell_type": "code",
   "execution_count": 11,
   "metadata": {},
   "outputs": [
    {
     "name": "stdout",
     "output_type": "stream",
     "text": [
      "引数 (args): ('無効な値が入力されました',)\n",
      "ノート (__notes__): ['原因: 値が負数です', '対処法: 正の値を入力してください']\n"
     ]
    },
    {
     "ename": "ValueError",
     "evalue": "無効な値が入力されました",
     "output_type": "error",
     "traceback": [
      "\u001b[0;31m---------------------------------------------------------------------------\u001b[0m",
      "\u001b[0;31mValueError\u001b[0m                                Traceback (most recent call last)",
      "Cell \u001b[0;32mIn[11], line 4\u001b[0m\n\u001b[1;32m      2\u001b[0m \u001b[38;5;28;01mtry\u001b[39;00m:\n\u001b[1;32m      3\u001b[0m     \u001b[38;5;28;01mif\u001b[39;00m input_number \u001b[38;5;241m<\u001b[39m \u001b[38;5;241m0\u001b[39m:\n\u001b[0;32m----> 4\u001b[0m         \u001b[38;5;28;01mraise\u001b[39;00m \u001b[38;5;167;01mValueError\u001b[39;00m(\u001b[38;5;124m\"\u001b[39m\u001b[38;5;124m無効な値が入力されました\u001b[39m\u001b[38;5;124m\"\u001b[39m)\n\u001b[1;32m      5\u001b[0m \u001b[38;5;28;01mexcept\u001b[39;00m \u001b[38;5;167;01mValueError\u001b[39;00m \u001b[38;5;28;01mas\u001b[39;00m e:\n\u001b[1;32m      6\u001b[0m     \u001b[38;5;66;03m# ノートを追加\u001b[39;00m\n\u001b[1;32m      7\u001b[0m     e\u001b[38;5;241m.\u001b[39madd_note(\u001b[38;5;124m\"\u001b[39m\u001b[38;5;124m原因: 値が負数です\u001b[39m\u001b[38;5;124m\"\u001b[39m)\n",
      "\u001b[0;31mValueError\u001b[0m: 無効な値が入力されました",
      "\u001b[0m原因: 値が負数です",
      "\u001b[0m対処法: 正の値を入力してください"
     ]
    }
   ],
   "source": [
    "input_number = -1\n",
    "try:\n",
    "    if input_number < 0:\n",
    "        raise ValueError(\"無効な値が入力されました\")\n",
    "except ValueError as e:\n",
    "    # ノートを追加\n",
    "    e.add_note(\"原因: 値が負数です\")\n",
    "    e.add_note(\"対処法: 正の値を入力してください\")\n",
    "    # argsには引数で渡された値が格納される\n",
    "    print(\"引数 (args):\", e.args)\n",
    "    # __notes__にはadd_noteで追加した捕捉情報が格納される\n",
    "    print(\"ノート (__notes__):\", e.__notes__)\n",
    "    raise"
   ]
  },
  {
   "cell_type": "markdown",
   "metadata": {},
   "source": [
    "###### 図 13: 例外を捕捉しさらに例外を上乗せする例(from eがある場合)"
   ]
  },
  {
   "cell_type": "code",
   "execution_count": 12,
   "metadata": {},
   "outputs": [],
   "source": [
    "import json\n",
    "from collections.abc import Mapping\n",
    "\n",
    "\n",
    "def load_settings(settings_file: str) -> Mapping[str, str]:\n",
    "    \"\"\"設定ファイル(json)を読み込む\"\"\"\n",
    "    with open(settings_file, \"r\") as file:\n",
    "        return json.load(file)"
   ]
  },
  {
   "cell_type": "code",
   "execution_count": 13,
   "metadata": {},
   "outputs": [
    {
     "ename": "ValueError",
     "evalue": "設定ファイルが壊れています。",
     "output_type": "error",
     "traceback": [
      "\u001b[0;31m---------------------------------------------------------------------------\u001b[0m",
      "\u001b[0;31mKeyError\u001b[0m                                  Traceback (most recent call last)",
      "Cell \u001b[0;32mIn[13], line 3\u001b[0m\n\u001b[1;32m      2\u001b[0m \u001b[38;5;28;01mtry\u001b[39;00m:\n\u001b[0;32m----> 3\u001b[0m     setting_value \u001b[38;5;241m=\u001b[39m \u001b[43msettings\u001b[49m\u001b[43m[\u001b[49m\u001b[38;5;124;43m\"\u001b[39;49m\u001b[38;5;124;43msetting_key\u001b[39;49m\u001b[38;5;124;43m\"\u001b[39;49m\u001b[43m]\u001b[49m\n\u001b[1;32m      4\u001b[0m \u001b[38;5;28;01mexcept\u001b[39;00m \u001b[38;5;167;01mKeyError\u001b[39;00m \u001b[38;5;28;01mas\u001b[39;00m e:\n",
      "\u001b[0;31mKeyError\u001b[0m: 'setting_key'",
      "\nThe above exception was the direct cause of the following exception:\n",
      "\u001b[0;31mValueError\u001b[0m                                Traceback (most recent call last)",
      "Cell \u001b[0;32mIn[13], line 5\u001b[0m\n\u001b[1;32m      3\u001b[0m     setting_value \u001b[38;5;241m=\u001b[39m settings[\u001b[38;5;124m\"\u001b[39m\u001b[38;5;124msetting_key\u001b[39m\u001b[38;5;124m\"\u001b[39m]\n\u001b[1;32m      4\u001b[0m \u001b[38;5;28;01mexcept\u001b[39;00m \u001b[38;5;167;01mKeyError\u001b[39;00m \u001b[38;5;28;01mas\u001b[39;00m e:\n\u001b[0;32m----> 5\u001b[0m     \u001b[38;5;28;01mraise\u001b[39;00m \u001b[38;5;167;01mValueError\u001b[39;00m(\u001b[38;5;124m\"\u001b[39m\u001b[38;5;124m設定ファイルが壊れています。\u001b[39m\u001b[38;5;124m\"\u001b[39m) \u001b[38;5;28;01mfrom\u001b[39;00m \u001b[38;5;21;01me\u001b[39;00m\n",
      "\u001b[0;31mValueError\u001b[0m: 設定ファイルが壊れています。"
     ]
    }
   ],
   "source": [
    "settings = load_settings(\"settings.json\")  # { \"dummy_key\": \"dummy_value\" }\n",
    "try:\n",
    "    setting_value = settings[\"setting_key\"]\n",
    "except KeyError as e:\n",
    "    raise ValueError(\"設定ファイルが壊れています。\") from e"
   ]
  },
  {
   "cell_type": "markdown",
   "metadata": {},
   "source": [
    "###### 参考: 例外を上乗せした場合のエラーメッセージ例(from e がある場合)\n"
   ]
  },
  {
   "cell_type": "code",
   "execution_count": 14,
   "metadata": {},
   "outputs": [
    {
     "ename": "TypeError",
     "evalue": "上乗せした例外",
     "output_type": "error",
     "traceback": [
      "\u001b[0;31m---------------------------------------------------------------------------\u001b[0m",
      "\u001b[0;31mValueError\u001b[0m                                Traceback (most recent call last)",
      "Cell \u001b[0;32mIn[14], line 2\u001b[0m\n\u001b[1;32m      1\u001b[0m \u001b[38;5;28;01mtry\u001b[39;00m:\n\u001b[0;32m----> 2\u001b[0m     \u001b[38;5;28;01mraise\u001b[39;00m \u001b[38;5;167;01mValueError\u001b[39;00m(\u001b[38;5;124m\"\u001b[39m\u001b[38;5;124m最初の例外\u001b[39m\u001b[38;5;124m\"\u001b[39m)\n\u001b[1;32m      3\u001b[0m \u001b[38;5;28;01mexcept\u001b[39;00m \u001b[38;5;167;01mValueError\u001b[39;00m \u001b[38;5;28;01mas\u001b[39;00m e:\n",
      "\u001b[0;31mValueError\u001b[0m: 最初の例外",
      "\nThe above exception was the direct cause of the following exception:\n",
      "\u001b[0;31mTypeError\u001b[0m                                 Traceback (most recent call last)",
      "Cell \u001b[0;32mIn[14], line 4\u001b[0m\n\u001b[1;32m      2\u001b[0m     \u001b[38;5;28;01mraise\u001b[39;00m \u001b[38;5;167;01mValueError\u001b[39;00m(\u001b[38;5;124m\"\u001b[39m\u001b[38;5;124m最初の例外\u001b[39m\u001b[38;5;124m\"\u001b[39m)\n\u001b[1;32m      3\u001b[0m \u001b[38;5;28;01mexcept\u001b[39;00m \u001b[38;5;167;01mValueError\u001b[39;00m \u001b[38;5;28;01mas\u001b[39;00m e:\n\u001b[0;32m----> 4\u001b[0m     \u001b[38;5;28;01mraise\u001b[39;00m \u001b[38;5;167;01mTypeError\u001b[39;00m(\u001b[38;5;124m\"\u001b[39m\u001b[38;5;124m上乗せした例外\u001b[39m\u001b[38;5;124m\"\u001b[39m) \u001b[38;5;28;01mfrom\u001b[39;00m \u001b[38;5;21;01me\u001b[39;00m\n",
      "\u001b[0;31mTypeError\u001b[0m: 上乗せした例外"
     ]
    }
   ],
   "source": [
    "try:\n",
    "    raise ValueError(\"最初の例外\")\n",
    "except ValueError as e:\n",
    "    raise TypeError(\"上乗せした例外\") from e"
   ]
  },
  {
   "cell_type": "markdown",
   "metadata": {},
   "source": [
    "###### 図 14: 例外を上乗せした場合のエラーメッセージ例(from eがない場合)\n"
   ]
  },
  {
   "cell_type": "code",
   "execution_count": 15,
   "metadata": {},
   "outputs": [
    {
     "ename": "TypeError",
     "evalue": "上乗せした例外",
     "output_type": "error",
     "traceback": [
      "\u001b[0;31m---------------------------------------------------------------------------\u001b[0m",
      "\u001b[0;31mValueError\u001b[0m                                Traceback (most recent call last)",
      "Cell \u001b[0;32mIn[15], line 2\u001b[0m\n\u001b[1;32m      1\u001b[0m \u001b[38;5;28;01mtry\u001b[39;00m:\n\u001b[0;32m----> 2\u001b[0m     \u001b[38;5;28;01mraise\u001b[39;00m \u001b[38;5;167;01mValueError\u001b[39;00m(\u001b[38;5;124m\"\u001b[39m\u001b[38;5;124m最初の例外\u001b[39m\u001b[38;5;124m\"\u001b[39m)\n\u001b[1;32m      3\u001b[0m \u001b[38;5;28;01mexcept\u001b[39;00m \u001b[38;5;167;01mValueError\u001b[39;00m:\n",
      "\u001b[0;31mValueError\u001b[0m: 最初の例外",
      "\nDuring handling of the above exception, another exception occurred:\n",
      "\u001b[0;31mTypeError\u001b[0m                                 Traceback (most recent call last)",
      "Cell \u001b[0;32mIn[15], line 4\u001b[0m\n\u001b[1;32m      2\u001b[0m     \u001b[38;5;28;01mraise\u001b[39;00m \u001b[38;5;167;01mValueError\u001b[39;00m(\u001b[38;5;124m\"\u001b[39m\u001b[38;5;124m最初の例外\u001b[39m\u001b[38;5;124m\"\u001b[39m)\n\u001b[1;32m      3\u001b[0m \u001b[38;5;28;01mexcept\u001b[39;00m \u001b[38;5;167;01mValueError\u001b[39;00m:\n\u001b[0;32m----> 4\u001b[0m     \u001b[38;5;28;01mraise\u001b[39;00m \u001b[38;5;167;01mTypeError\u001b[39;00m(\u001b[38;5;124m\"\u001b[39m\u001b[38;5;124m上乗せした例外\u001b[39m\u001b[38;5;124m\"\u001b[39m)\n",
      "\u001b[0;31mTypeError\u001b[0m: 上乗せした例外"
     ]
    }
   ],
   "source": [
    "try:\n",
    "    raise ValueError(\"最初の例外\")\n",
    "except ValueError:\n",
    "    raise TypeError(\"上乗せした例外\")"
   ]
  },
  {
   "cell_type": "markdown",
   "metadata": {},
   "source": [
    "###### 参考: 例外を上乗せした場合の**cause**属性\n"
   ]
  },
  {
   "cell_type": "code",
   "execution_count": 16,
   "metadata": {},
   "outputs": [
    {
     "name": "stdout",
     "output_type": "stream",
     "text": [
      "上乗せした例外に__cause__が付いています。\n",
      "error_2.__cause__=ValueError('最初の例外')\n"
     ]
    }
   ],
   "source": [
    "try:\n",
    "    try:\n",
    "        raise ValueError(\"最初の例外\")\n",
    "    except ValueError as error_1:\n",
    "        # __cause__ がない例外を再発生させる\n",
    "        raise TypeError(\"上乗せした例外\") from error_1\n",
    "except Exception as error_2:  # 上乗せした例外を捕捉\n",
    "    # 例外に __cause__ が付与されているかを確認\n",
    "    if error_2.__cause__:\n",
    "        print(f\"{error_2}に__cause__が付いています。\")\n",
    "    else:\n",
    "        print(f\"{type(error_2)}に__cause__は付いていません。\")\n",
    "    print(f\"{error_2.__cause__=}\")"
   ]
  },
  {
   "cell_type": "markdown",
   "metadata": {},
   "source": [
    "###### 図 15: 例外を捕捉し例外を差し替える例\n"
   ]
  },
  {
   "cell_type": "code",
   "execution_count": 17,
   "metadata": {},
   "outputs": [
    {
     "ename": "ValueError",
     "evalue": "該当要素が見つかりませんでした。",
     "output_type": "error",
     "traceback": [
      "\u001b[0;31m---------------------------------------------------------------------------\u001b[0m",
      "\u001b[0;31mValueError\u001b[0m                                Traceback (most recent call last)",
      "Cell \u001b[0;32mIn[17], line 6\u001b[0m\n\u001b[1;32m      4\u001b[0m     matched_item \u001b[38;5;241m=\u001b[39m \u001b[38;5;28mnext\u001b[39m(it \u001b[38;5;28;01mfor\u001b[39;00m it \u001b[38;5;129;01min\u001b[39;00m items \u001b[38;5;28;01mif\u001b[39;00m it \u001b[38;5;241m>\u001b[39m \u001b[38;5;241m0\u001b[39m)\n\u001b[1;32m      5\u001b[0m \u001b[38;5;28;01mexcept\u001b[39;00m \u001b[38;5;167;01mStopIteration\u001b[39;00m:\n\u001b[0;32m----> 6\u001b[0m     \u001b[38;5;28;01mraise\u001b[39;00m \u001b[38;5;167;01mValueError\u001b[39;00m(\u001b[38;5;124m\"\u001b[39m\u001b[38;5;124m該当要素が見つかりませんでした。\u001b[39m\u001b[38;5;124m\"\u001b[39m) \u001b[38;5;28;01mfrom\u001b[39;00m \u001b[38;5;28;01mNone\u001b[39;00m\n",
      "\u001b[0;31mValueError\u001b[0m: 該当要素が見つかりませんでした。"
     ]
    }
   ],
   "source": [
    "items = [-1, -2, -3]\n",
    "try:\n",
    "    # ジェネレータ式で最初に条件を満たす要素を取得\n",
    "    matched_item = next(it for it in items if it > 0)\n",
    "except StopIteration:\n",
    "    raise ValueError(\"該当要素が見つかりませんでした。\") from None"
   ]
  },
  {
   "cell_type": "markdown",
   "metadata": {},
   "source": [
    "###### 図 16: else 節の記述例\n"
   ]
  },
  {
   "cell_type": "code",
   "execution_count": 18,
   "metadata": {},
   "outputs": [
    {
     "name": "stdout",
     "output_type": "stream",
     "text": [
      "正常に処理されました。result=5.0\n"
     ]
    }
   ],
   "source": [
    "try:\n",
    "    result = 10 / 2  # 例外が発生する可能性のあるコード\n",
    "except ZeroDivisionError:\n",
    "    print(\"0で除算しようとしました。\")\n",
    "    result = 0\n",
    "else:\n",
    "    # 例外が発生しなかった場合のみ表示される\n",
    "    print(f\"正常に処理されました。{result=}\")"
   ]
  },
  {
   "cell_type": "markdown",
   "metadata": {},
   "source": [
    "###### 図 17: finally 節の記述例\n"
   ]
  },
  {
   "cell_type": "code",
   "execution_count": 19,
   "metadata": {},
   "outputs": [
    {
     "name": "stdout",
     "output_type": "stream",
     "text": [
      "0で除算しようとしました。\n",
      "実行回数をファイルに書き込みました。total_count=0\n"
     ]
    }
   ],
   "source": [
    "total_count = 0\n",
    "try:\n",
    "    result = 10 / 0  # 例外が発生する可能性のあるコード\n",
    "    total_count += 1\n",
    "except ZeroDivisionError:\n",
    "    print(\"0で除算しようとしました。\")\n",
    "finally:\n",
    "    # 例外の有無に関わらず実行される\n",
    "    with open(\"result.txt\", \"w\") as file:\n",
    "        file.write(f\"{total_count=}\")\n",
    "    print(f\"実行回数をファイルに書き込みました。{total_count=}\")"
   ]
  },
  {
   "cell_type": "markdown",
   "metadata": {},
   "source": [
    "###### 図 18: 後始末の実行順序\n"
   ]
  },
  {
   "cell_type": "code",
   "execution_count": 20,
   "metadata": {},
   "outputs": [
    {
     "name": "stdout",
     "output_type": "stream",
     "text": [
      "1. try節実行\n",
      "3. else節実行: returnします。\n",
      "4. finally節実行\n"
     ]
    }
   ],
   "source": [
    "def execution_order_sample() -> None:\n",
    "    try:\n",
    "        print(\"1. try節実行\")\n",
    "    except ValueError as e:\n",
    "        # エラーが発生しないため、この例ではこのブロックは実行されない\n",
    "        print(f\"2. except節実行: {e}\")\n",
    "    else:\n",
    "        print(\"3. else節実行: returnします。\")\n",
    "        return\n",
    "    finally:\n",
    "        print(\"4. finally節実行\")\n",
    "\n",
    "\n",
    "execution_order_sample()"
   ]
  },
  {
   "cell_type": "markdown",
   "metadata": {},
   "source": [
    "###### 図A: 標準ライブラリと同名のスクリプト実行時のエラーメッセージの例"
   ]
  },
  {
   "cell_type": "code",
   "execution_count": 21,
   "metadata": {},
   "outputs": [],
   "source": [
    "import sys\n",
    "import os\n",
    "\n",
    "# 標準ライブラリと同名の自作スクリプトをimportした状況を再現するため、標準ライブラリではなく自作スクリプトを優先してimportするように変更\n",
    "# Pythonはsys.pathの最初のエントリから順にモジュールを検索するため、先頭にディレクトリを追加\n",
    "sys.path.insert(0, os.getcwd())\n",
    "# すでにrandom・numpyモジュールがインポートされている場合は、削除\n",
    "sys.modules.pop(\"random\", None)\n",
    "sys.modules.pop(\"numpy\", None)"
   ]
  },
  {
   "cell_type": "code",
   "execution_count": 22,
   "metadata": {},
   "outputs": [
    {
     "name": "stdout",
     "output_type": "stream",
     "text": [
      "ダミーのモジュールがimportされました\n"
     ]
    },
    {
     "ename": "AttributeError",
     "evalue": "module 'random' has no attribute 'random' (consider renaming '/workspaces/softwaredesign-202502-python-exception-handling/03_exception_handling/random.py' since it has the same name as the standard library module named 'random' and prevents importing that standard library module)",
     "output_type": "error",
     "traceback": [
      "\u001b[0;31m---------------------------------------------------------------------------\u001b[0m",
      "\u001b[0;31mAttributeError\u001b[0m                            Traceback (most recent call last)",
      "Cell \u001b[0;32mIn[22], line 4\u001b[0m\n\u001b[1;32m      1\u001b[0m \u001b[38;5;66;03m# ダミーのrandomモジュールをインポート\u001b[39;00m\n\u001b[1;32m      2\u001b[0m \u001b[38;5;28;01mimport\u001b[39;00m \u001b[38;5;21;01mrandom\u001b[39;00m\n\u001b[0;32m----> 4\u001b[0m \u001b[43mrandom\u001b[49m\u001b[38;5;241;43m.\u001b[39;49m\u001b[43mrandom\u001b[49m()\n",
      "\u001b[0;31mAttributeError\u001b[0m: module 'random' has no attribute 'random' (consider renaming '/workspaces/softwaredesign-202502-python-exception-handling/03_exception_handling/random.py' since it has the same name as the standard library module named 'random' and prevents importing that standard library module)"
     ]
    }
   ],
   "source": [
    "# ダミーのrandomモジュールをインポート\n",
    "import random\n",
    "\n",
    "random.random()"
   ]
  },
  {
   "cell_type": "markdown",
   "metadata": {},
   "source": [
    "###### 参考: サードパーティモジュールと同名のスクリプト実行時のエラーメッセージの例"
   ]
  },
  {
   "cell_type": "code",
   "execution_count": 23,
   "metadata": {},
   "outputs": [
    {
     "name": "stdout",
     "output_type": "stream",
     "text": [
      "ダミーのモジュールがimportされました\n"
     ]
    },
    {
     "ename": "AttributeError",
     "evalue": "module 'numpy' has no attribute 'random'",
     "output_type": "error",
     "traceback": [
      "\u001b[0;31m---------------------------------------------------------------------------\u001b[0m",
      "\u001b[0;31mAttributeError\u001b[0m                            Traceback (most recent call last)",
      "Cell \u001b[0;32mIn[23], line 4\u001b[0m\n\u001b[1;32m      1\u001b[0m \u001b[38;5;66;03m# ダミーのnumpyモジュールをインポート\u001b[39;00m\n\u001b[1;32m      2\u001b[0m \u001b[38;5;28;01mimport\u001b[39;00m \u001b[38;5;21;01mnumpy\u001b[39;00m \u001b[38;5;28;01mas\u001b[39;00m \u001b[38;5;21;01mnp\u001b[39;00m\n\u001b[0;32m----> 4\u001b[0m \u001b[43mnp\u001b[49m\u001b[38;5;241;43m.\u001b[39;49m\u001b[43mrandom\u001b[49m\u001b[38;5;241m.\u001b[39mrandom()\n",
      "\u001b[0;31mAttributeError\u001b[0m: module 'numpy' has no attribute 'random'"
     ]
    }
   ],
   "source": [
    "# ダミーのnumpyモジュールをインポート\n",
    "import numpy as np\n",
    "\n",
    "np.random.random()"
   ]
  }
 ],
 "metadata": {
  "kernelspec": {
   "display_name": "Python 3",
   "language": "python",
   "name": "python3"
  },
  "language_info": {
   "codemirror_mode": {
    "name": "ipython",
    "version": 3
   },
   "file_extension": ".py",
   "mimetype": "text/x-python",
   "name": "python",
   "nbconvert_exporter": "python",
   "pygments_lexer": "ipython3",
   "version": "3.13.1"
  }
 },
 "nbformat": 4,
 "nbformat_minor": 2
}
