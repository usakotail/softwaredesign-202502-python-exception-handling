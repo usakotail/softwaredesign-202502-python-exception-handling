{
 "cells": [
  {
   "cell_type": "markdown",
   "metadata": {},
   "source": [
    "###### 図 1: 単純な文法の誤りによる構文エラーの例"
   ]
  },
  {
   "cell_type": "code",
   "execution_count": 1,
   "metadata": {},
   "outputs": [
    {
     "ename": "SyntaxError",
     "evalue": "expected ':' (1694349398.py, line 1)",
     "output_type": "error",
     "traceback": [
      "\u001b[0;36m  Cell \u001b[0;32mIn[1], line 1\u001b[0;36m\u001b[0m\n\u001b[0;31m    if True\u001b[0m\n\u001b[0m           ^\u001b[0m\n\u001b[0;31mSyntaxError\u001b[0m\u001b[0;31m:\u001b[0m expected ':'\n"
     ]
    }
   ],
   "source": [
    "if True\n",
    "    print(\"Hello\")"
   ]
  },
  {
   "cell_type": "markdown",
   "metadata": {},
   "source": [
    "###### 図 2: 予約語による構文エラーの例"
   ]
  },
  {
   "cell_type": "code",
   "execution_count": 2,
   "metadata": {},
   "outputs": [
    {
     "ename": "SyntaxError",
     "evalue": "cannot assign to True (2227483689.py, line 1)",
     "output_type": "error",
     "traceback": [
      "\u001b[0;36m  Cell \u001b[0;32mIn[2], line 1\u001b[0;36m\u001b[0m\n\u001b[0;31m    True = 10\u001b[0m\n\u001b[0m    ^\u001b[0m\n\u001b[0;31mSyntaxError\u001b[0m\u001b[0;31m:\u001b[0m cannot assign to True\n"
     ]
    }
   ],
   "source": [
    "True = 10"
   ]
  },
  {
   "cell_type": "markdown",
   "metadata": {},
   "source": [
    "###### 図 3: Ruffによって構文エラーを検出した例"
   ]
  },
  {
   "cell_type": "code",
   "execution_count": 3,
   "metadata": {},
   "outputs": [
    {
     "name": "stdout",
     "output_type": "stream",
     "text": [
      "\u001b[1mruff_error.py\u001b[0m\u001b[36m:\u001b[0m1\u001b[36m:\u001b[0m8\u001b[36m:\u001b[0m SyntaxError: Expected ':', found newline\n",
      "\u001b[1;38;5;12m  |\u001b[0m\n",
      "\u001b[1;38;5;12m1 |\u001b[0m if True\n",
      "\u001b[1;38;5;12m  |\u001b[0m\u001b[1;38;5;9m        ^\u001b[0m\n",
      "\u001b[1;38;5;12m2 |\u001b[0m     print(\"Hello\")\n",
      "\u001b[1;38;5;12m3 |\u001b[0m \n",
      "\u001b[1;38;5;12m4 |\u001b[0m True = 10\n",
      "\u001b[1;38;5;12m  |\u001b[0m\n",
      "\n",
      "\u001b[1mruff_error.py\u001b[0m\u001b[36m:\u001b[0m4\u001b[36m:\u001b[0m1\u001b[36m:\u001b[0m SyntaxError: Invalid assignment target\n",
      "\u001b[1;38;5;12m  |\u001b[0m\n",
      "\u001b[1;38;5;12m2 |\u001b[0m     print(\"Hello\")\n",
      "\u001b[1;38;5;12m3 |\u001b[0m \n",
      "\u001b[1;38;5;12m4 |\u001b[0m True = 10\n",
      "\u001b[1;38;5;12m  |\u001b[0m\u001b[1;38;5;9m ^\u001b[0m\n",
      "\u001b[1;38;5;12m  |\u001b[0m\n",
      "\n",
      "Found 2 errors.\n"
     ]
    }
   ],
   "source": [
    "!ruff check ruff_error.py"
   ]
  },
  {
   "cell_type": "markdown",
   "metadata": {},
   "source": [
    "###### 参考: 実行中のcompileによる構文エラーの例"
   ]
  },
  {
   "cell_type": "code",
   "execution_count": 4,
   "metadata": {},
   "outputs": [
    {
     "name": "stdout",
     "output_type": "stream",
     "text": [
      "プログラム実行中…\n"
     ]
    },
    {
     "ename": "SyntaxError",
     "evalue": "cannot assign to True (<string>, line 1)",
     "output_type": "error",
     "traceback": [
      "Traceback \u001b[0;36m(most recent call last)\u001b[0m:\n",
      "\u001b[0m  File \u001b[1;32m~/.local/lib/python3.13/site-packages/IPython/core/interactiveshell.py:3577\u001b[0m in \u001b[1;35mrun_code\u001b[0m\n    exec(code_obj, self.user_global_ns, self.user_ns)\u001b[0m\n",
      "\u001b[0;36m  Cell \u001b[0;32mIn[4], line 3\u001b[0;36m\n\u001b[0;31m    compile(\"True = 0\", \"<string>\", \"exec\")\u001b[0;36m\n",
      "\u001b[0;36m  File \u001b[0;32m<string>:1\u001b[0;36m\u001b[0m\n\u001b[0;31m    True = 0\u001b[0m\n\u001b[0m    ^\u001b[0m\n\u001b[0;31mSyntaxError\u001b[0m\u001b[0;31m:\u001b[0m cannot assign to True\n"
     ]
    }
   ],
   "source": [
    "print(\"プログラム実行中…\")\n",
    "# 構文エラーが発生する文字列をコンパイル\n",
    "compile(\"True = 0\", \"<string>\", \"exec\")"
   ]
  },
  {
   "cell_type": "markdown",
   "metadata": {},
   "source": [
    "###### 参考: 実行中のimportによる構文エラーの例"
   ]
  },
  {
   "cell_type": "code",
   "execution_count": 5,
   "metadata": {},
   "outputs": [
    {
     "name": "stdout",
     "output_type": "stream",
     "text": [
      "プログラム実行中…\n"
     ]
    },
    {
     "ename": "SyntaxError",
     "evalue": "expected ':' (syntaxerror_module.py, line 1)",
     "output_type": "error",
     "traceback": [
      "Traceback \u001b[0;36m(most recent call last)\u001b[0m:\n",
      "\u001b[0m  File \u001b[1;32m~/.local/lib/python3.13/site-packages/IPython/core/interactiveshell.py:3577\u001b[0m in \u001b[1;35mrun_code\u001b[0m\n    exec(code_obj, self.user_global_ns, self.user_ns)\u001b[0m\n",
      "\u001b[0;36m  Cell \u001b[0;32mIn[5], line 2\u001b[0;36m\n\u001b[0;31m    import syntaxerror_module  # 構文エラーを含むモジュール\u001b[0;36m\n",
      "\u001b[0;36m  File \u001b[0;32m/workspaces/softwaredesign-202502-python-exception-handling/03_exception_handling/syntaxerror_module.py:1\u001b[0;36m\u001b[0m\n\u001b[0;31m    if True\u001b[0m\n\u001b[0m           ^\u001b[0m\n\u001b[0;31mSyntaxError\u001b[0m\u001b[0;31m:\u001b[0m expected ':'\n"
     ]
    }
   ],
   "source": [
    "print(\"プログラム実行中…\")\n",
    "import syntaxerror_module  # 構文エラーを含むモジュール"
   ]
  }
 ],
 "metadata": {
  "kernelspec": {
   "display_name": "Python 3",
   "language": "python",
   "name": "python3"
  },
  "language_info": {
   "codemirror_mode": {
    "name": "ipython",
    "version": 3
   },
   "file_extension": ".py",
   "mimetype": "text/x-python",
   "name": "python",
   "nbconvert_exporter": "python",
   "pygments_lexer": "ipython3",
   "version": "3.13.1"
  }
 },
 "nbformat": 4,
 "nbformat_minor": 2
}
