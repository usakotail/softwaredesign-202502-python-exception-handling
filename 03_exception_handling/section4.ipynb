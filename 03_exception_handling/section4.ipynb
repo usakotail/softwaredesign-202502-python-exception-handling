{
 "cells": [
  {
   "cell_type": "markdown",
   "metadata": {},
   "source": [
    "###### 図 19: ユーザー定義例外の記述例\n"
   ]
  },
  {
   "cell_type": "code",
   "execution_count": 1,
   "metadata": {},
   "outputs": [],
   "source": [
    "class AuthenticationError(Exception):\n",
    "    def __init__(self, user_id: str, message: str) -> None:\n",
    "        self.user_id = user_id\n",
    "        self.message = message\n",
    "\n",
    "    def __str__(self) -> str:\n",
    "        return f\"{self.message} user_id:{self.user_id}\""
   ]
  },
  {
   "cell_type": "markdown",
   "metadata": {},
   "source": [
    "###### 図 B: 誤ったキーワード引数のエラーメッセージの例"
   ]
  },
  {
   "cell_type": "code",
   "execution_count": 2,
   "metadata": {},
   "outputs": [
    {
     "ename": "TypeError",
     "evalue": "sort() got an unexpected keyword argument 'reverses'. Did you mean 'reverse'?",
     "output_type": "error",
     "traceback": [
      "\u001b[0;31m---------------------------------------------------------------------------\u001b[0m",
      "\u001b[0;31mTypeError\u001b[0m                                 Traceback (most recent call last)",
      "Cell \u001b[0;32mIn[2], line 2\u001b[0m\n\u001b[1;32m      1\u001b[0m \u001b[38;5;66;03m# 本来の引数はreversesでなくreverse\u001b[39;00m\n\u001b[0;32m----> 2\u001b[0m \u001b[38;5;28;43msorted\u001b[39;49m\u001b[43m(\u001b[49m\u001b[43m[\u001b[49m\u001b[38;5;241;43m5\u001b[39;49m\u001b[43m,\u001b[49m\u001b[43m \u001b[49m\u001b[38;5;241;43m2\u001b[39;49m\u001b[43m,\u001b[49m\u001b[43m \u001b[49m\u001b[38;5;241;43m9\u001b[39;49m\u001b[43m]\u001b[49m\u001b[43m,\u001b[49m\u001b[43m \u001b[49m\u001b[43mreverses\u001b[49m\u001b[38;5;241;43m=\u001b[39;49m\u001b[38;5;28;43;01mTrue\u001b[39;49;00m\u001b[43m)\u001b[49m\n",
      "\u001b[0;31mTypeError\u001b[0m: sort() got an unexpected keyword argument 'reverses'. Did you mean 'reverse'?"
     ]
    }
   ],
   "source": [
    "# 本来の引数はreversesでなくreverse\n",
    "sorted([5, 2, 9], reverses=True)"
   ]
  },
  {
   "cell_type": "markdown",
   "metadata": {},
   "source": [
    "###### リスト 3: 階層構造のユーザー定義例外の記述例\n"
   ]
  },
  {
   "cell_type": "code",
   "execution_count": 3,
   "metadata": {},
   "outputs": [],
   "source": [
    "class ApiError(Exception):\n",
    "    \"\"\"APIに関連する例外の基底クラス\"\"\"\n",
    "\n",
    "    pass\n",
    "\n",
    "\n",
    "class ApiTimeoutError(ApiError):\n",
    "    \"\"\"APIがタイムアウトした場合の例外\"\"\"\n",
    "\n",
    "    pass\n",
    "\n",
    "\n",
    "class ApiCredentialsNotFoundError(ApiError):\n",
    "    \"\"\"APIの認証情報が見つからない場合の例外\"\"\"\n",
    "\n",
    "    pass"
   ]
  }
 ],
 "metadata": {
  "kernelspec": {
   "display_name": "Python 3",
   "language": "python",
   "name": "python3"
  },
  "language_info": {
   "codemirror_mode": {
    "name": "ipython",
    "version": 3
   },
   "file_extension": ".py",
   "mimetype": "text/x-python",
   "name": "python",
   "nbconvert_exporter": "python",
   "pygments_lexer": "ipython3",
   "version": "3.13.1"
  }
 },
 "nbformat": 4,
 "nbformat_minor": 2
}
